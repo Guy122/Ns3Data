{
  "cells": [
    {
      "cell_type": "markdown",
      "metadata": {
        "id": "view-in-github",
        "colab_type": "text"
      },
      "source": [
        "<a href=\"https://colab.research.google.com/github/Guy122/Ns3Data/blob/main/LoadAndClean.ipynb\" target=\"_parent\"><img src=\"https://colab.research.google.com/assets/colab-badge.svg\" alt=\"Open In Colab\"/></a>"
      ]
    },
    {
      "cell_type": "markdown",
      "source": [
        "Install mysql-server"
      ],
      "metadata": {
        "id": "z43EtxNdnAYn"
      }
    },
    {
      "cell_type": "code",
      "execution_count": null,
      "metadata": {
        "colab": {
          "base_uri": "https://localhost:8080/"
        },
        "id": "O-rYycV1p0wd",
        "outputId": "0e55c956-c800-4726-abeb-a83459a1aa3b"
      },
      "outputs": [
        {
          "output_type": "stream",
          "name": "stdout",
          "text": [
            "Reading package lists... Done\n",
            "Building dependency tree... Done\n",
            "Reading state information... Done\n",
            "The following additional packages will be installed:\n",
            "  libcgi-fast-perl libcgi-pm-perl libclone-perl libencode-locale-perl libfcgi-bin libfcgi-perl\n",
            "  libfcgi0ldbl libhtml-parser-perl libhtml-tagset-perl libhtml-template-perl libhttp-date-perl\n",
            "  libhttp-message-perl libio-html-perl liblwp-mediatypes-perl libmecab2 libprotobuf-lite23\n",
            "  liburi-perl mecab-ipadic mecab-ipadic-utf8 mecab-utils mysql-client-8.0 mysql-client-core-8.0\n",
            "  mysql-server-8.0 mysql-server-core-8.0\n",
            "Suggested packages:\n",
            "  libdata-dump-perl libipc-sharedcache-perl libbusiness-isbn-perl libwww-perl mailx tinyca\n",
            "The following NEW packages will be installed:\n",
            "  libcgi-fast-perl libcgi-pm-perl libclone-perl libencode-locale-perl libfcgi-bin libfcgi-perl\n",
            "  libfcgi0ldbl libhtml-parser-perl libhtml-tagset-perl libhtml-template-perl libhttp-date-perl\n",
            "  libhttp-message-perl libio-html-perl liblwp-mediatypes-perl libmecab2 libprotobuf-lite23\n",
            "  liburi-perl mecab-ipadic mecab-ipadic-utf8 mecab-utils mysql-client-8.0 mysql-client-core-8.0\n",
            "  mysql-server mysql-server-8.0 mysql-server-core-8.0\n",
            "0 upgraded, 25 newly installed, 0 to remove and 49 not upgraded.\n",
            "Need to get 29.6 MB of archives.\n",
            "After this operation, 243 MB of additional disk space will be used.\n",
            "Get:1 http://archive.ubuntu.com/ubuntu jammy-updates/main amd64 mysql-client-core-8.0 amd64 8.0.39-0ubuntu0.22.04.1 [2,762 kB]\n",
            "0% [1 mysql-client-core-8.0 12.7 kB/2,762 kB 0%]\u001b[0m^C\n"
          ]
        }
      ],
      "source": [
        "!apt install mysql-server"
      ]
    },
    {
      "cell_type": "markdown",
      "source": [
        "Install python package"
      ],
      "metadata": {
        "id": "M8lterAUnNoN"
      }
    },
    {
      "cell_type": "code",
      "execution_count": null,
      "metadata": {
        "colab": {
          "base_uri": "https://localhost:8080/"
        },
        "id": "ZHjUb1fqPKyg",
        "outputId": "158833cb-09d3-49f6-b9c6-8c9f119e1a24"
      },
      "outputs": [
        {
          "output_type": "stream",
          "name": "stdout",
          "text": [
            "Collecting mysql-connector-python\n",
            "  Downloading mysql_connector_python-9.0.0-cp310-cp310-manylinux_2_17_x86_64.whl.metadata (2.0 kB)\n",
            "Downloading mysql_connector_python-9.0.0-cp310-cp310-manylinux_2_17_x86_64.whl (19.3 MB)\n",
            "\u001b[2K   \u001b[90m━━━━━━━━━━━━━━━━━━━━━━━━━━━━━━━━━━━━━━━━\u001b[0m \u001b[32m19.3/19.3 MB\u001b[0m \u001b[31m76.6 MB/s\u001b[0m eta \u001b[36m0:00:00\u001b[0m\n",
            "\u001b[?25hInstalling collected packages: mysql-connector-python\n",
            "Successfully installed mysql-connector-python-9.0.0\n"
          ]
        }
      ],
      "source": [
        "!pip install mysql-connector-python"
      ]
    },
    {
      "cell_type": "markdown",
      "source": [
        "Start mysql service"
      ],
      "metadata": {
        "id": "znTV8MMOnF_7"
      }
    },
    {
      "cell_type": "code",
      "execution_count": null,
      "metadata": {
        "colab": {
          "base_uri": "https://localhost:8080/"
        },
        "id": "FjlYHSibL82E",
        "outputId": "e11fb01a-a98a-48f2-bb53-b7cfbe0e2747"
      },
      "outputs": [
        {
          "output_type": "stream",
          "name": "stdout",
          "text": [
            " * Stopping MySQL database server mysqld\n",
            "   ...done.\n",
            " * Starting MySQL database server mysqld\n",
            "su: warning: cannot change directory to /nonexistent: No such file or directory\n",
            "   ...done.\n"
          ]
        }
      ],
      "source": [
        "!service mysql restart"
      ]
    },
    {
      "cell_type": "markdown",
      "source": [
        "Get into mysql an put the line:\n",
        "\n",
        "ALTER USER 'root'@'localhost' IDENTIFIED WITH mysql_native_password BY 'root';\n",
        "\n",
        "for adding root user."
      ],
      "metadata": {
        "id": "wKTjnF3SnbXP"
      }
    },
    {
      "cell_type": "code",
      "source": [
        "!mysql"
      ],
      "metadata": {
        "colab": {
          "base_uri": "https://localhost:8080/"
        },
        "id": "gJSyX2gxNd01",
        "outputId": "57c36ea5-c951-44c1-89cd-8f992cefadd9"
      },
      "execution_count": null,
      "outputs": [
        {
          "output_type": "stream",
          "name": "stdout",
          "text": [
            "Welcome to the MySQL monitor.  Commands end with ; or \\g.\n",
            "Your MySQL connection id is 10\n",
            "Server version: 8.0.39-0ubuntu0.22.04.1 (Ubuntu)\n",
            "\n",
            "Copyright (c) 2000, 2024, Oracle and/or its affiliates.\n",
            "\n",
            "Oracle is a registered trademark of Oracle Corporation and/or its\n",
            "affiliates. Other names may be trademarks of their respective\n",
            "owners.\n",
            "\n",
            "Type 'help;' or '\\h' for help. Type '\\c' to clear the current input statement.\n",
            "\n",
            "mysql> ALTER USER 'root'@'localhost' IDENTIFIED WITH mysql_native_password BY 'root';\n",
            "Query OK, 0 rows affected (0.01 sec)\n",
            "\n",
            "mysql> exit\n",
            "Bye\n"
          ]
        }
      ]
    },
    {
      "cell_type": "markdown",
      "source": [
        "Go to sql data dir."
      ],
      "metadata": {
        "id": "YmImXCiRoEDV"
      }
    },
    {
      "cell_type": "code",
      "source": [
        "%cd drive/MyDrive/datans3/"
      ],
      "metadata": {
        "colab": {
          "base_uri": "https://localhost:8080/"
        },
        "id": "WBxU1PakLVL-",
        "outputId": "e1281340-c7f4-404d-bb96-0a93a31c4899"
      },
      "execution_count": null,
      "outputs": [
        {
          "output_type": "stream",
          "name": "stdout",
          "text": [
            "/content/drive/MyDrive/datans3\n"
          ]
        }
      ]
    },
    {
      "cell_type": "markdown",
      "source": [
        "Adding all sql databases to mysql server. it's will take some time ..."
      ],
      "metadata": {
        "id": "3tE6EPRYoP6d"
      }
    },
    {
      "cell_type": "code",
      "source": [
        "!mysql -u root -proot < DataNs3_correct.sql"
      ],
      "metadata": {
        "colab": {
          "base_uri": "https://localhost:8080/"
        },
        "id": "m2Hx1r6CK5Xw",
        "outputId": "3a2b1046-43ca-47c2-ffb2-e8226e68f7ca"
      },
      "execution_count": null,
      "outputs": [
        {
          "output_type": "stream",
          "name": "stdout",
          "text": [
            "mysql: [Warning] Using a password on the command line interface can be insecure.\n"
          ]
        }
      ]
    },
    {
      "cell_type": "markdown",
      "source": [
        "Connect to mysql server via python"
      ],
      "metadata": {
        "id": "ZTHsyfKpn6fP"
      }
    },
    {
      "cell_type": "code",
      "execution_count": null,
      "metadata": {
        "colab": {
          "base_uri": "https://localhost:8080/"
        },
        "id": "oiPFP5-1M7Ao",
        "outputId": "4fc4323f-c966-4c47-80cf-6e6f7f85785d"
      },
      "outputs": [
        {
          "output_type": "stream",
          "name": "stdout",
          "text": [
            "A connection object has been created.\n"
          ]
        }
      ],
      "source": [
        "# import the connect method\n",
        "from mysql.connector import connect\n",
        "\n",
        "# define a connection object\n",
        "conn = connect(\n",
        "      user = 'root',\n",
        "      password = 'root',\n",
        "      host = 'localhost')\n",
        "\n",
        "print('A connection object has been created.')\n",
        "\n",
        "# close the database connection\n",
        "# conn.close()\n"
      ]
    },
    {
      "cell_type": "markdown",
      "source": [
        "Take all databases names and save them into databases_name list."
      ],
      "metadata": {
        "id": "sBxPkTbqoZsH"
      }
    },
    {
      "cell_type": "code",
      "execution_count": null,
      "metadata": {
        "id": "hyudjCF1euKI"
      },
      "outputs": [],
      "source": [
        "mycursor = conn.cursor()\n",
        "\n",
        "mycursor.execute(\"SHOW DATABASES;\")\n",
        "\n",
        "myresult = mycursor.fetchall()\n",
        "databases_name = []\n",
        "for x in myresult:\n",
        "  # print(x[0])\n",
        "  databases_name += [x[0]]"
      ]
    },
    {
      "cell_type": "markdown",
      "source": [
        "Shows how many databases we have."
      ],
      "metadata": {
        "id": "MF3itcOioxVr"
      }
    },
    {
      "cell_type": "code",
      "source": [
        "len(databases_name)"
      ],
      "metadata": {
        "colab": {
          "base_uri": "https://localhost:8080/"
        },
        "id": "wrFX7m-ihPSO",
        "outputId": "6a39bf98-4413-4782-e0f9-46fbfd067a62"
      },
      "execution_count": null,
      "outputs": [
        {
          "output_type": "execute_result",
          "data": {
            "text/plain": [
              "44"
            ]
          },
          "metadata": {},
          "execution_count": 19
        }
      ]
    },
    {
      "cell_type": "code",
      "source": [
        "x =None\n",
        "if x > 5 or x == None:\n",
        "  print(x)"
      ],
      "metadata": {
        "colab": {
          "base_uri": "https://localhost:8080/",
          "height": 206
        },
        "id": "OfxEDiU41vqd",
        "outputId": "5db66a12-8524-47b1-888f-13cab8927f77"
      },
      "execution_count": null,
      "outputs": [
        {
          "output_type": "error",
          "ename": "TypeError",
          "evalue": "'>' not supported between instances of 'NoneType' and 'int'",
          "traceback": [
            "\u001b[0;31m---------------------------------------------------------------------------\u001b[0m",
            "\u001b[0;31mTypeError\u001b[0m                                 Traceback (most recent call last)",
            "\u001b[0;32m<ipython-input-17-d8626be24fff>\u001b[0m in \u001b[0;36m<cell line: 2>\u001b[0;34m()\u001b[0m\n\u001b[1;32m      1\u001b[0m \u001b[0mx\u001b[0m \u001b[0;34m=\u001b[0m\u001b[0;32mNone\u001b[0m\u001b[0;34m\u001b[0m\u001b[0;34m\u001b[0m\u001b[0m\n\u001b[0;32m----> 2\u001b[0;31m \u001b[0;32mif\u001b[0m \u001b[0mx\u001b[0m \u001b[0;34m>\u001b[0m \u001b[0;36m5\u001b[0m \u001b[0;32mor\u001b[0m \u001b[0mx\u001b[0m \u001b[0;34m==\u001b[0m \u001b[0;32mNone\u001b[0m\u001b[0;34m:\u001b[0m\u001b[0;34m\u001b[0m\u001b[0;34m\u001b[0m\u001b[0m\n\u001b[0m\u001b[1;32m      3\u001b[0m   \u001b[0mprint\u001b[0m\u001b[0;34m(\u001b[0m\u001b[0mx\u001b[0m\u001b[0;34m)\u001b[0m\u001b[0;34m\u001b[0m\u001b[0;34m\u001b[0m\u001b[0m\n",
            "\u001b[0;31mTypeError\u001b[0m: '>' not supported between instances of 'NoneType' and 'int'"
          ]
        }
      ]
    },
    {
      "cell_type": "markdown",
      "source": [
        "Drop all faield Databases with simulation steps smaller than 1999 and also where attach_UEs are more the 5, Write there names into wrong_databases list, The correct databases put into correct_databases list."
      ],
      "metadata": {
        "id": "XVGgFXa3qnT1"
      }
    },
    {
      "cell_type": "code",
      "source": [
        "correct_databases = []\n",
        "wrong_databases = []\n",
        "tables_name = ['UlSINR_Per_RBs','ArrivalRateDl','ArrivalRateUl','Mcs_Dl','Mcs_Ul','RBs_Allocation_Dl','RBs_Allocation_Ul','RSRP','UE_Tx_Power','UlSINR_Per_RBs','harq_Dl','harq_Ul','tbs_Dl','tbs_Ul']\n",
        "for i in range(len(databases_name)):\n",
        "  if len(databases_name[i]) > 40:\n",
        "    mycursor1 = conn.cursor()\n",
        "    mycursor1.execute(f\"use {databases_name[i]};\")\n",
        "    mycursor1.execute(f\"SELECT MAX(Attach_UEs) AS max_Attach_UEs FROM Gnbs;\")\n",
        "    myresult1 = mycursor1.fetchall()\n",
        "    # for x1 in myresult1:\n",
        "    if myresult1[0][0] == None or myresult1[0][0] > 5:\n",
        "      mycursor1.execute(f\"Drop database {databases_name[i]};\")\n",
        "      wrong_databases += [databases_name[i],]\n",
        "      # databases_name.remove(databases_name[i])\n",
        "    else:\n",
        "\n",
        "      for k in range(len(tables_name)):\n",
        "        mycursor = conn.cursor()\n",
        "        mycursor.execute(f\"use {databases_name[i]};\")\n",
        "        mycursor.execute(f\"SELECT MAX(Simulation_Step) AS max_Simulation_Step FROM {tables_name[k]};\")\n",
        "        myresult = mycursor.fetchall()\n",
        "\n",
        "\n",
        "        if myresult[0][0] != 1999:\n",
        "          # if x[0] != 1999:\n",
        "          #   print(x[0])\n",
        "          #   correct_databases += [databases_name[i],]\n",
        "          # else:\n",
        "          mycursor.execute(f\"Drop database {databases_name[i]};\")\n",
        "          wrong_databases += [databases_name[i],]\n",
        "          # databases_name.remove(databases_name[i])\n",
        "          break\n",
        "        if databases_name[i] not in correct_databases:\n",
        "          correct_databases.append(databases_name[i])\n"
      ],
      "metadata": {
        "id": "yRpIQ192W8Y1"
      },
      "execution_count": null,
      "outputs": []
    },
    {
      "cell_type": "markdown",
      "source": [
        "print how many worng databases we had."
      ],
      "metadata": {
        "id": "mD-4Ny57rTob"
      }
    },
    {
      "cell_type": "code",
      "source": [
        "print(len(wrong_databases))"
      ],
      "metadata": {
        "colab": {
          "base_uri": "https://localhost:8080/"
        },
        "id": "JNX19c3waF8D",
        "outputId": "9cbf35ab-7faa-4533-c70e-b5b8901c29f1"
      },
      "execution_count": null,
      "outputs": [
        {
          "output_type": "stream",
          "name": "stdout",
          "text": [
            "0\n"
          ]
        }
      ]
    },
    {
      "cell_type": "markdown",
      "source": [
        "print new databases size."
      ],
      "metadata": {
        "id": "QnioCH_2rdNY"
      }
    },
    {
      "cell_type": "code",
      "source": [
        "print(len(databases_name))"
      ],
      "metadata": {
        "colab": {
          "base_uri": "https://localhost:8080/"
        },
        "id": "qE3vmAQ4aS9M",
        "outputId": "76ec9f01-d2ce-476d-8519-020a337ed512"
      },
      "execution_count": null,
      "outputs": [
        {
          "output_type": "stream",
          "name": "stdout",
          "text": [
            "44\n"
          ]
        }
      ]
    },
    {
      "cell_type": "markdown",
      "source": [
        "print how many correct databases we have."
      ],
      "metadata": {
        "id": "b_hlIhWNrmeR"
      }
    },
    {
      "cell_type": "code",
      "source": [
        "print(len(correct_databases))"
      ],
      "metadata": {
        "colab": {
          "base_uri": "https://localhost:8080/"
        },
        "id": "dr659lv-YiRW",
        "outputId": "fa0337ac-462a-411f-b41d-ab4c3f36d0c7"
      },
      "execution_count": null,
      "outputs": [
        {
          "output_type": "stream",
          "name": "stdout",
          "text": [
            "40\n"
          ]
        }
      ]
    },
    {
      "cell_type": "markdown",
      "source": [
        "Dvide the correct_databases to databases_per_gnb and databases_per_numgnb lists which mean the specific databases per Gnbs and their quantaty."
      ],
      "metadata": {
        "id": "pel_chn_Kl44"
      }
    },
    {
      "cell_type": "code",
      "source": [
        "# databases_per_numgnb = [[],]*4\n",
        "databases_per_numgnb3 = []\n",
        "databases_per_numgnb5 = []\n",
        "databases_per_numgnb10 = []\n",
        "databases_per_numgnb20 = []\n",
        "\n",
        "for i in range(len(correct_databases)):\n",
        "  gnb_index = ''\n",
        "  for k in range(len(correct_databases[i])):\n",
        "    if correct_databases[i][k] =='G':\n",
        "      # print(correct_databases[i])\n",
        "      # print(databases_per_numgnb)\n",
        "      # print(gnb_index)\n",
        "      if gnb_index == '3':\n",
        "        databases_per_numgnb3 += [correct_databases[i],]\n",
        "      if gnb_index == '5':\n",
        "        databases_per_numgnb5 += [correct_databases[i],]\n",
        "      if gnb_index == '10':\n",
        "        databases_per_numgnb10 += [correct_databases[i],]\n",
        "      if gnb_index == '20':\n",
        "        databases_per_numgnb20 += [correct_databases[i],]\n",
        "      break\n",
        "    gnb_index += correct_databases[i][k]\n",
        "\n",
        "databases_per_gnb = [databases_per_numgnb3,databases_per_numgnb5,databases_per_numgnb10,databases_per_numgnb20]\n",
        "databases_per_numgnb =[len(databases_per_numgnb3),len(databases_per_numgnb5),len(databases_per_numgnb10),len(databases_per_numgnb20)]\n"
      ],
      "metadata": {
        "id": "o3NgssF0_Whi"
      },
      "execution_count": null,
      "outputs": []
    },
    {
      "cell_type": "code",
      "source": [
        "databases_per_numgnb"
      ],
      "metadata": {
        "colab": {
          "base_uri": "https://localhost:8080/"
        },
        "id": "ARsT4Vn9GG_y",
        "outputId": "b176af08-02f7-4a89-9f02-9ffc9c12c634"
      },
      "execution_count": null,
      "outputs": [
        {
          "output_type": "execute_result",
          "data": {
            "text/plain": [
              "[11, 16, 11, 2]"
            ]
          },
          "metadata": {},
          "execution_count": 26
        }
      ]
    },
    {
      "cell_type": "code",
      "source": [
        "!ls"
      ],
      "metadata": {
        "colab": {
          "base_uri": "https://localhost:8080/"
        },
        "id": "yo74Ek-v3PnM",
        "outputId": "fac6d0d7-4232-40c6-a8e8-f791829b158e"
      },
      "execution_count": null,
      "outputs": [
        {
          "output_type": "stream",
          "name": "stdout",
          "text": [
            "3Gnbs_10Ues_simulation2024x09x29xx03x15x31x084741\n",
            "3Gnbs_10Ues_simulation2024x09x29xx03x15x31x084741.sql\n",
            "3Gnbs_10Ues_simulation2024x09x29xx04x35x59x490165\n",
            "3Gnbs_11Ues_simulation2024x09x29xx02x40x34x086453\n",
            "3Gnbs_11Ues_simulation2024x09x29xx04x01x46x816362\n",
            "3Gnbs_13Ues_simulation2024x09x29xx01x12x12x082702\n",
            "3Gnbs_13Ues_simulation2024x09x29xx01x31x42x997071\n",
            "3Gnbs_14Ues_simulation2024x09x29xx02x00x16x069922\n",
            "3Gnbs_7Ues_simulation2024x09x29xx03x38x06x290964\n",
            "3Gnbs_9Ues_simulation2024x09x29xx03x38x29x982710\n",
            "3Gnbs_9Ues_simulation2024x09x29xx05x03x44x229224\n",
            "DataNs3_correct.sql\n",
            "DataNs3.sql\n"
          ]
        }
      ]
    },
    {
      "cell_type": "code",
      "source": [
        "!ls"
      ],
      "metadata": {
        "colab": {
          "base_uri": "https://localhost:8080/"
        },
        "id": "hk1YSHJTCpD6",
        "outputId": "e06dc2ae-08f0-49a0-d674-4b45681303ed"
      },
      "execution_count": null,
      "outputs": [
        {
          "output_type": "stream",
          "name": "stdout",
          "text": [
            "3Gnbs_10Ues_simulation2024x09x29xx03x15x31x084741\n",
            "3Gnbs_10Ues_simulation2024x09x29xx03x15x31x084741.sql\n",
            "3Gnbs_10Ues_simulation2024x09x29xx04x35x59x490165\n",
            "3Gnbs_11Ues_simulation2024x09x29xx02x40x34x086453\n",
            "3Gnbs_11Ues_simulation2024x09x29xx04x01x46x816362\n",
            "3Gnbs_13Ues_simulation2024x09x29xx01x12x12x082702\n",
            "3Gnbs_13Ues_simulation2024x09x29xx01x31x42x997071\n",
            "3Gnbs_14Ues_simulation2024x09x29xx02x00x16x069922\n",
            "3Gnbs_7Ues_simulation2024x09x29xx03x38x06x290964\n",
            "3Gnbs_9Ues_simulation2024x09x29xx03x38x29x982710\n",
            "3Gnbs_9Ues_simulation2024x09x29xx05x03x44x229224\n",
            "DataNs3_correct1.sql\n",
            "DataNs3_correct.sql\n",
            "DataNs3.sql\n"
          ]
        }
      ]
    },
    {
      "cell_type": "code",
      "source": [
        "!mysqldump -u root -p --all-databases > DataNs3_correct1.sql"
      ],
      "metadata": {
        "colab": {
          "base_uri": "https://localhost:8080/"
        },
        "id": "bgdxHTCm26QV",
        "outputId": "0eeec273-2208-409a-9d32-424fd9c23416"
      },
      "execution_count": null,
      "outputs": [
        {
          "output_type": "stream",
          "name": "stdout",
          "text": [
            "Enter password: \n",
            "\n"
          ]
        }
      ]
    },
    {
      "cell_type": "markdown",
      "source": [
        "mysqldump -u root -p --all-databases > DataNs3_correct.sql\n",
        "\n",
        "---\n",
        "\n"
      ],
      "metadata": {
        "id": "DMyG383Z16p5"
      }
    }
  ],
  "metadata": {
    "colab": {
      "provenance": [],
      "toc_visible": true,
      "mount_file_id": "1j9Sg1NsV2_l3VNkujozPEv2qv-CkvtfS",
      "authorship_tag": "ABX9TyNUc/0oulsdhN4mE5/VfS7O",
      "include_colab_link": true
    },
    "kernelspec": {
      "display_name": "Python 3",
      "name": "python3"
    },
    "language_info": {
      "name": "python"
    }
  },
  "nbformat": 4,
  "nbformat_minor": 0
}